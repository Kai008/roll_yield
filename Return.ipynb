{
 "cells": [
  {
   "cell_type": "code",
   "execution_count": 1,
   "metadata": {},
   "outputs": [
    {
     "ename": "ModuleNotFoundError",
     "evalue": "No module named 'utils'",
     "output_type": "error",
     "traceback": [
      "\u001b[0;31m---------------------------------------------------------------------------\u001b[0m",
      "\u001b[0;31mModuleNotFoundError\u001b[0m                       Traceback (most recent call last)",
      "\u001b[0;32m<ipython-input-1-23b8d6021742>\u001b[0m in \u001b[0;36m<module>\u001b[0;34m\u001b[0m\n\u001b[1;32m      4\u001b[0m \u001b[0;32mimport\u001b[0m \u001b[0mquandl\u001b[0m\u001b[0;34m,\u001b[0m \u001b[0mmath\u001b[0m\u001b[0;34m\u001b[0m\u001b[0m\n\u001b[1;32m      5\u001b[0m \u001b[0;32mfrom\u001b[0m \u001b[0mdateutil\u001b[0m\u001b[0;34m.\u001b[0m\u001b[0mrelativedelta\u001b[0m \u001b[0;32mimport\u001b[0m \u001b[0mrelativedelta\u001b[0m\u001b[0;34m\u001b[0m\u001b[0m\n\u001b[0;32m----> 6\u001b[0;31m \u001b[0;32mfrom\u001b[0m \u001b[0mutils\u001b[0m \u001b[0;32mimport\u001b[0m \u001b[0mexpiration_date\u001b[0m\u001b[0;34m,\u001b[0m \u001b[0mis_business_day\u001b[0m\u001b[0;34m,\u001b[0m \u001b[0mis_holiday\u001b[0m\u001b[0;34m\u001b[0m\u001b[0m\n\u001b[0m\u001b[1;32m      7\u001b[0m \u001b[0;34m\u001b[0m\u001b[0m\n\u001b[1;32m      8\u001b[0m \u001b[0mquandl\u001b[0m\u001b[0;34m.\u001b[0m\u001b[0mApiConfig\u001b[0m\u001b[0;34m.\u001b[0m\u001b[0mapi_key\u001b[0m \u001b[0;34m=\u001b[0m \u001b[0;34m\"tjxFewEnckmn8zjjsHSZ\"\u001b[0m\u001b[0;34m\u001b[0m\u001b[0m\n",
      "\u001b[0;31mModuleNotFoundError\u001b[0m: No module named 'utils'"
     ]
    }
   ],
   "source": [
    "from datetime import timedelta, date\n",
    "import pandas as pd\n",
    "import numpy as np\n",
    "import quandl, math\n",
    "from dateutil.relativedelta import relativedelta\n",
    "from utils import expiration_date, is_business_day, is_holiday\n",
    "\n",
    "quandl.ApiConfig.api_key = \"tjxFewEnckmn8zjjsHSZ\"\n",
    "\n",
    "def daterange(start_date, end_date):\n",
    "    for n in range(int ((end_date - start_date).days)):\n",
    "        yield start_date + timedelta(n)\n",
    "        \n",
    "start_date = date(2015, 1, 1)\n",
    "end_date = date(2015, 1, 10)\n",
    "signal = []\n",
    "spot_price = []\n",
    "future_price = []\n",
    "\n",
    "\n",
    "spot = quandl.get(\"EIA/PET_RWTC_D\",start_date=start_date,end_date=end_date,returns=\"numpy\")\n",
    "\n",
    "future = quandl.get(\"CHRIS/CME_CL1\",start_date=start_date,end_date=end_date,returns=\"numpy\")\n",
    "\n",
    "for item in spot:\n",
    "    s_price = float(item[1])\n",
    "    spot_price.extend([s_price])\n",
    "    \n",
    "for item in future: \n",
    "    f_price = float(item[4])\n",
    "    future_price.extend([f_price])\n",
    "\n",
    "    \n",
    "for single_date in daterange(start_date, end_date):\n",
    "    sig = trade_signal(single_date,\"WTI\",6)\n",
    "    signal.extend([sig])\n",
    "    "
   ]
  },
  {
   "cell_type": "code",
   "execution_count": null,
   "metadata": {},
   "outputs": [],
   "source": [
    "retrn = np.zeros(len(spot_price),dtype=np.float)\n",
    "retrn[0] = 0\n",
    "pnl = np.zeros(len(spot_price),dtype=np.float)\n",
    "pnl[0] = 0\n",
    "Init_capital = 1000\n",
    "capital = np.zeros(len(signal),dtype=np.float)\n",
    "capital[0]=Init_capital\n",
    "\n",
    "\n",
    "for i in range(1,len(spot_price)-1):\n",
    "    if abs(signal[i])>.01 and abs(signal[i])<2:\n",
    "        retrn[i] = np.sign(signal[i])*(((spot_price[i]-future_price[i])/future_price[i])+((spot_price[i]-spot_price[i-1])/spot_price[i-1]))\n",
    "        capital[i]=(1+retrn[i])*capital[i-1]\n",
    "        pnl[i]=capital[i]-capital[i-1]\n",
    "        total_PNL=np.cumsum(pnl)\n",
    "    else:\n",
    "        retrn[i]=0\n",
    "        pnl[i]=pnl[i-1]\n",
    "        \n",
    "        "
   ]
  }
 ],
 "metadata": {
  "kernelspec": {
   "display_name": "Python 3",
   "language": "python",
   "name": "python3"
  },
  "language_info": {
   "codemirror_mode": {
    "name": "ipython",
    "version": 3
   },
   "file_extension": ".py",
   "mimetype": "text/x-python",
   "name": "python",
   "nbconvert_exporter": "python",
   "pygments_lexer": "ipython3",
   "version": "3.6.6"
  }
 },
 "nbformat": 4,
 "nbformat_minor": 2
}
