{
 "cells": [
  {
   "cell_type": "code",
   "execution_count": 1,
   "metadata": {},
   "outputs": [],
   "source": [
    "import statsmodels.api as sm\n",
    "import math\n",
    "import numpy as np\n",
    "import pandas as pd\n",
    "from datetime import timedelta, date\n",
    "import quandl as qu\n",
    "\n",
    "qu.ApiConfig.api_key = \"tjxFewEnckmn8zjjsHSZ\"\n",
    "\n",
    "def BID_ASK(series):\n",
    "    prices = pd.DataFrame(series)\n",
    "    daily_return = prices.pct_change(1) \n",
    "    Scov = sm.tsa.stattools.acovf(daily_return,missing='drop',fft=True)\n",
    "    spread = np.zeros(len(Scov))\n",
    "    for i in range(0,len(Scov)):\n",
    "        if Scov[i]<0:\n",
    "            spread[i] = 2*math.sqrt(-Scov[i])\n",
    "        else:\n",
    "            spread[i] = 0\n",
    "    return spread"
   ]
  },
  {
   "cell_type": "code",
   "execution_count": 2,
   "metadata": {},
   "outputs": [
    {
     "name": "stdout",
     "output_type": "stream",
     "text": [
      "[0.         0.         0.00616905 0.00843034 0.         0.\n",
      " 0.00332135 0.         0.         0.01027946 0.01114844 0.0027978\n",
      " 0.         0.00757957 0.00905513 0.00507061 0.00631069 0.00366181\n",
      " 0.0025573  0.         0.         0.00945259 0.01421979 0.\n",
      " 0.00759245 0.0081997  0.00896968 0.         0.00951956 0.\n",
      " 0.00640241 0.         0.00551111 0.00896485 0.00316753 0.00448928\n",
      " 0.00049964 0.00220113 0.00072372 0.         0.         0.00420426\n",
      " 0.         0.00433477 0.         0.01008378 0.00760543 0.\n",
      " 0.00279609 0.0050728  0.         0.00322631 0.01036708 0.01178236\n",
      " 0.00793749 0.         0.         0.00770016 0.         0.\n",
      " 0.00807263 0.00331468 0.00447675 0.         0.00752779 0.00663404\n",
      " 0.00381434 0.         0.         0.         0.         0.\n",
      " 0.0082185  0.00634681 0.         0.         0.         0.00449974\n",
      " 0.         0.00182966 0.         0.00550785 0.         0.\n",
      " 0.         0.00700115 0.         0.         0.         0.00413058\n",
      " 0.00874938 0.01063685 0.00433916 0.00993906 0.         0.\n",
      " 0.00480709 0.00577856 0.0088011  0.         0.         0.\n",
      " 0.0016348  0.         0.01077701 0.00519989 0.         0.\n",
      " 0.0055236  0.         0.         0.         0.00649917 0.\n",
      " 0.         0.         0.00806001 0.         0.         0.00072546\n",
      " 0.00765592 0.01175429 0.00856105 0.00428609 0.00550117 0.\n",
      " 0.         0.00626372 0.         0.         0.         0.00236939\n",
      " 0.         0.00546527 0.         0.00255672 0.         0.\n",
      " 0.00368953 0.00604335 0.00761279 0.00770668 0.00282532 0.\n",
      " 0.         0.00600013 0.00250987 0.         0.         0.\n",
      " 0.         0.00533366 0.         0.         0.         0.00207558\n",
      " 0.00511306 0.         0.00196486 0.         0.01080608 0.00675011\n",
      " 0.         0.0009951  0.         0.0068653  0.         0.00393404\n",
      " 0.         0.         0.         0.00771311 0.         0.00542448\n",
      " 0.00456374 0.00835826 0.00476596 0.         0.00443862 0.00528453\n",
      " 0.00401093 0.00608538 0.         0.         0.         0.\n",
      " 0.         0.         0.00574549 0.         0.00714179 0.\n",
      " 0.00661099 0.         0.00698569 0.         0.0018025  0.\n",
      " 0.00520559 0.         0.00722312 0.         0.         0.\n",
      " 0.00722772 0.         0.         0.         0.00277561 0.\n",
      " 0.00544107 0.         0.         0.         0.         0.00547871\n",
      " 0.         0.00466859 0.00191382 0.00498263 0.00147774 0.00486755\n",
      " 0.         0.00518464 0.00303073 0.00124273 0.         0.00229962\n",
      " 0.         0.00337715 0.00327688 0.         0.         0.00353816\n",
      " 0.00180851 0.00121295 0.0023805  0.00141486 0.         0.00389839\n",
      " 0.00325162 0.         0.00250533 0.         0.         0.00257801\n",
      " 0.         0.         0.00242564 0.         0.        ]\n"
     ]
    }
   ],
   "source": [
    "start_date = date(2010, 1, 1)\n",
    "end_date = date(2011, 1, 1)\n",
    "\n",
    "WTI = qu.get(\"CHRIS/CME_CL1\",start_date=start_date,end_date=end_date,returns=\"numpy\")\n",
    "BRENT = qu.get(\"CHRIS/ICE_B1\",start_date=start_date,end_date=end_date,returns=\"numpy\")\n",
    "\n",
    "\n",
    "WTI_price = []\n",
    "BRENT_price = []\n",
    "W_price = []\n",
    "B_price = []\n",
    "\n",
    "for item in WTI: \n",
    "    W_price = float(item[4])\n",
    "    WTI_price.extend([W_price])  \n",
    "    \n",
    "for item in BRENT: \n",
    "    B_price = float(item[4])\n",
    "    BRENT_price.extend([B_price])\n",
    "\n",
    "prices = pd.DataFrame(WTI_price)\n",
    "daily_return = prices.pct_change(1) \n",
    "Scov = sm.tsa.stattools.acovf(daily_return,missing='drop',fft=True)\n",
    "\n",
    "spread = BID_ASK(WTI_price)\n",
    "\n",
    "print(spread)\n"
   ]
  }
 ],
 "metadata": {
  "kernelspec": {
   "display_name": "Python 3",
   "language": "python",
   "name": "python3"
  },
  "language_info": {
   "codemirror_mode": {
    "name": "ipython",
    "version": 3
   },
   "file_extension": ".py",
   "mimetype": "text/x-python",
   "name": "python",
   "nbconvert_exporter": "python",
   "pygments_lexer": "ipython3",
   "version": "3.6.6"
  }
 },
 "nbformat": 4,
 "nbformat_minor": 2
}
